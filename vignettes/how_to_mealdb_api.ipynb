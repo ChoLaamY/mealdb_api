{
 "cells": [
  {
   "cell_type": "markdown",
   "metadata": {},
   "source": [
    "## Introducing how to use the ```mealdb_api```\n",
    "\n",
    "*The MealDB API is free to use and no API key is needed to be inputted by the user*"
   ]
  },
  {
   "cell_type": "markdown",
   "metadata": {},
   "source": [
    "#### install the package directly from TestPyPi\n",
    "```\n",
    "!pip install -i https://test.pypi.org/simple/ mealdb-api\n",
    "````"
   ]
  },
  {
   "cell_type": "code",
   "execution_count": 1,
   "metadata": {},
   "outputs": [],
   "source": [
    "# import the package\n",
    "from mealdb_api import mealdb_api"
   ]
  },
  {
   "cell_type": "markdown",
   "metadata": {},
   "source": [
    "### ```mealdb_api.list_all```\n",
    "### Explore the different search categories avaliable on The MealDB API \n",
    "#### 3 Search Categories:\n",
    "* #### **Category** - a general recipe category \n",
    "* #### **Area** - the type of cuisine classified by place of origin\n",
    "* #### **Ingredient** - all of the ingredients that can be found on The MealDB"
   ]
  },
  {
   "cell_type": "code",
   "execution_count": 22,
   "metadata": {},
   "outputs": [
    {
     "data": {
      "text/plain": [
       "['Beef',\n",
       " 'Breakfast',\n",
       " 'Chicken',\n",
       " 'Dessert',\n",
       " 'Goat',\n",
       " 'Lamb',\n",
       " 'Miscellaneous',\n",
       " 'Pasta',\n",
       " 'Pork',\n",
       " 'Seafood',\n",
       " 'Side',\n",
       " 'Starter',\n",
       " 'Vegan',\n",
       " 'Vegetarian']"
      ]
     },
     "execution_count": 22,
     "metadata": {},
     "output_type": "execute_result"
    }
   ],
   "source": [
    "# example\n",
    "mealdb_api.list_all(search='Category')"
   ]
  },
  {
   "cell_type": "markdown",
   "metadata": {},
   "source": [
    "### ```mealdb_api.define_ingredient```\n",
    "### Search through all the avaliable ingredients \n",
    "* #### if the searched ingredient is a general term all the ingredients that contain the term from The MeadDB will be returned\n",
    "* #### some ingredients have stored definitions which will be returned as the value"
   ]
  },
  {
   "cell_type": "code",
   "execution_count": 23,
   "metadata": {},
   "outputs": [
    {
     "data": {
      "text/plain": [
       "{'Flaked Almonds': 'No definition avaliable',\n",
       " 'Ground Almonds': 'No definition avaliable',\n",
       " 'Almonds': 'No definition avaliable',\n",
       " 'Almond Milk': 'No definition avaliable',\n",
       " 'Almond Extract': 'The almond (Prunus dulcis, syn. Prunus amygdalus) is a species of tree native to Mediterranean climate regions of the Middle East, but widely cultivated elsewhere. The almond is also the name of the edible and widely cultivated seed of this tree. Within the genus Prunus, it is classified with the peach in the subgenus Amygdalus, distinguished from the other subgenera by corrugations on the shell (endocarp) surrounding the seed.  The fruit of the almond is a drupe, consisting of an outer hull and a hard shell with the seed, which is not a true nut, inside. Shelling almonds refers to removing the shell to reveal the seed. Almonds are sold shelled or unshelled. Blanched almonds are shelled almonds that have been treated with hot water to soften the seedcoat, which is then removed to reveal the white embryo.'}"
      ]
     },
     "execution_count": 23,
     "metadata": {},
     "output_type": "execute_result"
    }
   ],
   "source": [
    "# example\n",
    "mealdb_api.define_ingredient(ingredient='almond')"
   ]
  },
  {
   "cell_type": "markdown",
   "metadata": {},
   "source": [
    "### ```mealdb_api.filter_recipes```\n",
    "### Filter through the recipes by ingredient, category, and area\n",
    "* #### returns a list of all the recipes where the searched ingredient, category and area is indicated\n",
    "* #### if no such combination exsists an error will be raised\n",
    "### 3 Search Categories:\n",
    "* #### **Category** - a general recipe category \n",
    "* #### **Area** - the type of cuisine classified by place of origin\n",
    "* #### **Ingredient** - all of the ingredients that can be found on The MealDB"
   ]
  },
  {
   "cell_type": "code",
   "execution_count": 5,
   "metadata": {},
   "outputs": [
    {
     "data": {
      "text/plain": [
       "['Steak Diane', 'Beef Bourguignon', 'Chicken Marengo']"
      ]
     },
     "metadata": {},
     "output_type": "display_data"
    }
   ],
   "source": [
    "# example 1 (ingredient and area)\n",
    "mushroom_recipes = mealdb_api.filter_recipes(ingredient='mushroom', area='french')\n",
    "display(mushroom_recipes)"
   ]
  },
  {
   "cell_type": "code",
   "execution_count": 14,
   "metadata": {},
   "outputs": [
    {
     "data": {
      "text/plain": [
       "['Thai Green Curry']"
      ]
     },
     "execution_count": 14,
     "metadata": {},
     "output_type": "execute_result"
    }
   ],
   "source": [
    "# example 2 (ingredient, category, and area)\n",
    "mealdb_api.filter_recipes(ingredient='lime', category='chicken', area='thai')"
   ]
  },
  {
   "cell_type": "code",
   "execution_count": 21,
   "metadata": {},
   "outputs": [
    {
     "ename": "AssertionError",
     "evalue": "There is no combination of ('chilli', 'starter', 'moroccan') on TheMealBD's database of recipes",
     "output_type": "error",
     "traceback": [
      "\u001b[0;31m---------------------------------------------------------------------------\u001b[0m",
      "\u001b[0;31mAssertionError\u001b[0m                            Traceback (most recent call last)",
      "\u001b[0;32m<ipython-input-21-4a7e5977ec6b>\u001b[0m in \u001b[0;36m<module>\u001b[0;34m\u001b[0m\n\u001b[1;32m      1\u001b[0m \u001b[0;31m# example 3 (no combination returns an error)\u001b[0m\u001b[0;34m\u001b[0m\u001b[0;34m\u001b[0m\u001b[0;34m\u001b[0m\u001b[0m\n\u001b[0;32m----> 2\u001b[0;31m \u001b[0mmealdb_api\u001b[0m\u001b[0;34m.\u001b[0m\u001b[0mfilter_recipes\u001b[0m\u001b[0;34m(\u001b[0m\u001b[0mingredient\u001b[0m\u001b[0;34m=\u001b[0m\u001b[0;34m'chilli'\u001b[0m\u001b[0;34m,\u001b[0m \u001b[0mcategory\u001b[0m\u001b[0;34m=\u001b[0m\u001b[0;34m'starter'\u001b[0m\u001b[0;34m,\u001b[0m \u001b[0marea\u001b[0m\u001b[0;34m=\u001b[0m\u001b[0;34m'moroccan'\u001b[0m\u001b[0;34m)\u001b[0m\u001b[0;34m\u001b[0m\u001b[0;34m\u001b[0m\u001b[0m\n\u001b[0m",
      "\u001b[0;32m~/opt/anaconda3/lib/python3.8/site-packages/mealdb_api/mealdb_api.py\u001b[0m in \u001b[0;36mfilter_recipes\u001b[0;34m(ingredient, category, area)\u001b[0m\n\u001b[1;32m    261\u001b[0m         \u001b[0mrecipe_list\u001b[0m \u001b[0;34m=\u001b[0m \u001b[0mlist\u001b[0m\u001b[0;34m(\u001b[0m\u001b[0mset\u001b[0m\u001b[0;34m(\u001b[0m\u001b[0mrecipe_match_IC_IA\u001b[0m\u001b[0;34m)\u001b[0m\u001b[0;34m.\u001b[0m\u001b[0mintersection\u001b[0m\u001b[0;34m(\u001b[0m\u001b[0mrecipe_match_AC\u001b[0m\u001b[0;34m)\u001b[0m\u001b[0;34m)\u001b[0m\u001b[0;34m\u001b[0m\u001b[0;34m\u001b[0m\u001b[0m\n\u001b[1;32m    262\u001b[0m \u001b[0;34m\u001b[0m\u001b[0m\n\u001b[0;32m--> 263\u001b[0;31m     \u001b[0;32massert\u001b[0m \u001b[0mlen\u001b[0m\u001b[0;34m(\u001b[0m\u001b[0mrecipe_list\u001b[0m\u001b[0;34m)\u001b[0m \u001b[0;34m>\u001b[0m \u001b[0;36m0\u001b[0m\u001b[0;34m,\u001b[0m \u001b[0;34mf'There is no combination of {ingredient, category, area} on TheMealBD\\'s database of recipes'\u001b[0m\u001b[0;34m\u001b[0m\u001b[0;34m\u001b[0m\u001b[0m\n\u001b[0m\u001b[1;32m    264\u001b[0m \u001b[0;34m\u001b[0m\u001b[0m\n\u001b[1;32m    265\u001b[0m     \u001b[0;32mreturn\u001b[0m \u001b[0mrecipe_list\u001b[0m\u001b[0;34m\u001b[0m\u001b[0;34m\u001b[0m\u001b[0m\n",
      "\u001b[0;31mAssertionError\u001b[0m: There is no combination of ('chilli', 'starter', 'moroccan') on TheMealBD's database of recipes"
     ]
    }
   ],
   "source": [
    "# example 3 (no combination returns an error)\n",
    "mealdb_api.filter_recipes(ingredient='chilli', category='starter', area='moroccan')"
   ]
  },
  {
   "cell_type": "markdown",
   "metadata": {},
   "source": [
    "### ```mealdb_api.recipe_ingredients```\n",
    "### Search for the recipe instructions and ingredients by recipe name\n",
    "* #### function takes a single recipe name output from ```mealdb_api.filter_recipes``` as its input\n",
    "* #### returns 2 objects \n",
    "    * dataframe with the required ingredients and measurements\n",
    "    * dictionary with recipe name as the key and instructions as the value"
   ]
  },
  {
   "cell_type": "code",
   "execution_count": 24,
   "metadata": {},
   "outputs": [
    {
     "data": {
      "text/html": [
       "<div>\n",
       "<style scoped>\n",
       "    .dataframe tbody tr th:only-of-type {\n",
       "        vertical-align: middle;\n",
       "    }\n",
       "\n",
       "    .dataframe tbody tr th {\n",
       "        vertical-align: top;\n",
       "    }\n",
       "\n",
       "    .dataframe thead th {\n",
       "        text-align: right;\n",
       "    }\n",
       "</style>\n",
       "<table border=\"1\" class=\"dataframe\">\n",
       "  <thead>\n",
       "    <tr style=\"text-align: right;\">\n",
       "      <th></th>\n",
       "      <th>Ingredients</th>\n",
       "      <th>Measurements</th>\n",
       "    </tr>\n",
       "  </thead>\n",
       "  <tbody>\n",
       "    <tr>\n",
       "      <th>0</th>\n",
       "      <td>Goose Fat</td>\n",
       "      <td>3 tsp</td>\n",
       "    </tr>\n",
       "    <tr>\n",
       "      <th>1</th>\n",
       "      <td>Beef Shin</td>\n",
       "      <td>600g</td>\n",
       "    </tr>\n",
       "    <tr>\n",
       "      <th>2</th>\n",
       "      <td>Bacon</td>\n",
       "      <td>100g</td>\n",
       "    </tr>\n",
       "    <tr>\n",
       "      <th>3</th>\n",
       "      <td>Challots</td>\n",
       "      <td>350g</td>\n",
       "    </tr>\n",
       "    <tr>\n",
       "      <th>4</th>\n",
       "      <td>Chestnut Mushroom</td>\n",
       "      <td>250g</td>\n",
       "    </tr>\n",
       "    <tr>\n",
       "      <th>5</th>\n",
       "      <td>Garlic Clove</td>\n",
       "      <td>2 sliced</td>\n",
       "    </tr>\n",
       "    <tr>\n",
       "      <th>6</th>\n",
       "      <td>Bouquet Garni</td>\n",
       "      <td>1</td>\n",
       "    </tr>\n",
       "    <tr>\n",
       "      <th>7</th>\n",
       "      <td>Tomato Puree</td>\n",
       "      <td>1 tbs</td>\n",
       "    </tr>\n",
       "    <tr>\n",
       "      <th>8</th>\n",
       "      <td>Red Wine</td>\n",
       "      <td>750 ml</td>\n",
       "    </tr>\n",
       "    <tr>\n",
       "      <th>9</th>\n",
       "      <td>Celeriac</td>\n",
       "      <td>600g</td>\n",
       "    </tr>\n",
       "    <tr>\n",
       "      <th>10</th>\n",
       "      <td>Olive Oil</td>\n",
       "      <td>2 tbs</td>\n",
       "    </tr>\n",
       "    <tr>\n",
       "      <th>11</th>\n",
       "      <td>Thyme</td>\n",
       "      <td>sprigs of fresh</td>\n",
       "    </tr>\n",
       "    <tr>\n",
       "      <th>12</th>\n",
       "      <td>Rosemary</td>\n",
       "      <td>sprigs of fresh</td>\n",
       "    </tr>\n",
       "    <tr>\n",
       "      <th>13</th>\n",
       "      <td>Bay Leaf</td>\n",
       "      <td>2</td>\n",
       "    </tr>\n",
       "    <tr>\n",
       "      <th>14</th>\n",
       "      <td>Cardamom</td>\n",
       "      <td>4</td>\n",
       "    </tr>\n",
       "  </tbody>\n",
       "</table>\n",
       "</div>"
      ],
      "text/plain": [
       "          Ingredients     Measurements\n",
       "0           Goose Fat            3 tsp\n",
       "1           Beef Shin             600g\n",
       "2               Bacon            100g \n",
       "3            Challots             350g\n",
       "4   Chestnut Mushroom             250g\n",
       "5        Garlic Clove         2 sliced\n",
       "6       Bouquet Garni                1\n",
       "7        Tomato Puree            1 tbs\n",
       "8            Red Wine          750 ml \n",
       "9            Celeriac             600g\n",
       "10          Olive Oil            2 tbs\n",
       "11              Thyme  sprigs of fresh\n",
       "12           Rosemary  sprigs of fresh\n",
       "13           Bay Leaf                2\n",
       "14           Cardamom                4"
      ]
     },
     "metadata": {},
     "output_type": "display_data"
    },
    {
     "name": "stdout",
     "output_type": "stream",
     "text": [
      "{'Beef Bourguignon': 'Heat a large casserole pan and add 1 tbsp goose fat. Season the beef and fry until golden brown, about 3-5 mins, then turn over and fry the other side until the meat is browned all over, adding more fat if necessary. Do this in 2-3 batches, transferring the meat to a colander set over a bowl when browned. In the same pan, fry the bacon, shallots or pearl onions, mushrooms, garlic and bouquet garni until lightly browned. Mix in the tomato purée and cook for a few mins, stirring into the mixture. This enriches the bourguignon and makes a great base for the stew. Then return the beef and any drained juices to the pan and stir through. Pour over the wine and about 100ml water so the meat bobs up from the liquid, but isn’t completely covered. Bring to the boil and use a spoon to scrape the caramelised cooking juices from the bottom of the pan – this will give the stew more flavour. Heat oven to 150C/fan 130C/gas 2. Make a cartouche: tear off a square of foil slightly larger than the casserole, arrange it in the pan so it covers the top of the stew and trim away any excess foil. Then cook for 3 hrs. If the sauce looks watery, remove the beef and veg with a slotted spoon, and set aside. Cook the sauce over a high heat for a few mins until the sauce has thickened a little, then return the beef and vegetables to the pan. To make the celeriac mash, peel the celeriac and cut into cubes. Heat the olive oil in a large frying pan. Tip in the celeriac and fry for 5 mins until it turns golden. Season well with salt and pepper. Stir in the rosemary, thyme, bay and cardamom pods, then pour over 200ml water, enough to nearly cover the celeriac. Turn the heat to low, partially cover the pan and leave to simmer for 25-30 mins. After 25-30 mins, the celeriac should be soft and most of the water will have evaporated. Drain away any remaining water, then remove the herb sprigs, bay and cardamom pods. Lightly crush with a potato masher, then finish with a glug of olive oil and season to taste. Spoon the beef bourguignon into serving bowls and place a large spoonful of the celeriac mash on top. Garnish with one of the bay leaves, if you like.'}\n"
     ]
    }
   ],
   "source": [
    "# example\n",
    "df, instructions = mealdb_api.recipe_ingredients(recipe_name=mushroom_recipes[1])\n",
    "display(df)\n",
    "print(instructions)"
   ]
  }
 ],
 "metadata": {
  "kernelspec": {
   "display_name": "Python 3.8.8 ('base')",
   "language": "python",
   "name": "python3"
  },
  "language_info": {
   "codemirror_mode": {
    "name": "ipython",
    "version": 3
   },
   "file_extension": ".py",
   "mimetype": "text/x-python",
   "name": "python",
   "nbconvert_exporter": "python",
   "pygments_lexer": "ipython3",
   "version": "3.8.8"
  },
  "orig_nbformat": 4,
  "vscode": {
   "interpreter": {
    "hash": "1bf0fe91410e29e11407d0ce0490ef44e2862dbf704b12bb22470b1c2d287ef5"
   }
  }
 },
 "nbformat": 4,
 "nbformat_minor": 2
}
